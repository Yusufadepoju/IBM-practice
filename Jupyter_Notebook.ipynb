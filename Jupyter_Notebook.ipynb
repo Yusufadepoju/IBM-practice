{
  "cells": [
    {
      "cell_type": "markdown",
      "metadata": {
        "id": "view-in-github",
        "colab_type": "text"
      },
      "source": [
        "<a href=\"https://colab.research.google.com/github/Yusufadepoju/IBM-practice/blob/main/Jupyter_Notebook.ipynb\" target=\"_parent\"><img src=\"https://colab.research.google.com/assets/colab-badge.svg\" alt=\"Open In Colab\"/></a>"
      ]
    },
    {
      "cell_type": "markdown",
      "metadata": {
        "id": "IAeqlqECUgnb"
      },
      "source": [
        "<center>\n",
        "    <img src=\"https://cf-courses-data.s3.us.cloud-object-storage.appdomain.cloud/IBMDeveloperSkillsNetwork-DS0105EN-SkillsNetwork/labs/Module2/images/SN_web_lightmode.png\" width=\"300\" alt=\"cognitiveclass.ai logo\">\n",
        "</center>\n"
      ]
    },
    {
      "cell_type": "markdown",
      "metadata": {
        "id": "NNQfx8JFUgnf"
      },
      "source": [
        "#### Add your code below following the instructions given in the course\n"
      ]
    },
    {
      "cell_type": "markdown",
      "source": [
        "## Peer Graded Assignment"
      ],
      "metadata": {
        "id": "vXLiGMviUvJJ"
      }
    },
    {
      "cell_type": "markdown",
      "source": [
        "Introduction"
      ],
      "metadata": {
        "id": "j8zSqnnTU4W_"
      }
    },
    {
      "cell_type": "markdown",
      "source": [
        "*   Python\n",
        "*   SQL\n",
        "*   R Language\n",
        "\n",
        "\n",
        "\n",
        "\n"
      ],
      "metadata": {
        "id": "zzs3tujBVBB7"
      }
    },
    {
      "cell_type": "markdown",
      "source": [
        "\n",
        "\n",
        "*   Pandas\n",
        "*   Numpy\n",
        "*   Matplotlib\n",
        "*   Seaborn\n",
        "*   ggplot\n",
        "*   plotly\n",
        "*   dpyr\n",
        "\n"
      ],
      "metadata": {
        "id": "K6PIzKmnVkbt"
      }
    },
    {
      "cell_type": "markdown",
      "source": [
        "Create a markdown cell with a table of Data Science tools\n",
        "- Git\n",
        "- Jupyter notebook"
      ],
      "metadata": {
        "id": "ok_DZtk6WCM1"
      }
    },
    {
      "cell_type": "markdown",
      "source": [
        "Create a markdown cell introducing arithmetic expression examples\n",
        "- a = 4\n",
        "- b = 5\n",
        "- c = a + b = 4 + 5\n",
        "- c = 9"
      ],
      "metadata": {
        "id": "7eiUUS7JWx64"
      }
    },
    {
      "cell_type": "code",
      "source": [
        "#Create a code cell to multiply and add numbers\n",
        "\n",
        "#Addition\n",
        "a = 4\n",
        "b = 5\n",
        "c = a + b \n",
        "print(c)\n",
        "\n",
        "#Multiplication\n",
        "a = 4\n",
        "b = 5\n",
        "c = a * b\n",
        "print(c)\n"
      ],
      "metadata": {
        "colab": {
          "base_uri": "https://localhost:8080/"
        },
        "id": "8UFB_VwLYx1B",
        "outputId": "7303ecea-1f29-413c-f622-329180d6151a"
      },
      "execution_count": null,
      "outputs": [
        {
          "output_type": "stream",
          "name": "stdout",
          "text": [
            "9\n",
            "20\n"
          ]
        }
      ]
    },
    {
      "cell_type": "markdown",
      "source": [
        "Create a code cell to convert minutes to hours\n",
        "\n",
        "- 60 mins = 1 hr \n",
        "\n",
        "mins to hrs = (mins * 1)/60\n",
        "\n"
      ],
      "metadata": {
        "id": "e3qnIoeSXulI"
      }
    },
    {
      "cell_type": "code",
      "source": [
        "#Create a code cell to convert minutes to hours\n",
        "\n",
        "#60 mins = 1 hr\n",
        "mins_to_hrs = (mins * 1)/60"
      ],
      "metadata": {
        "id": "fnii6OpHYrbf"
      },
      "execution_count": null,
      "outputs": []
    },
    {
      "cell_type": "markdown",
      "source": [
        "- Insert a markdown cell to list Objectives\n",
        "\n",
        "- Creating a jupyter notebook\n",
        "Writting code to add, multiply 2 variables\n",
        "\n",
        "- How to cfeate a repository on github\n",
        "\n"
      ],
      "metadata": {
        "id": "wFLzsIRFZ3OR"
      }
    },
    {
      "cell_type": "markdown",
      "source": [
        "Create a markdown cell to indicate the Author’s name\n",
        "\n",
        "- The author of this Jupyter notebook is *Adepoju Yusuf*\n",
        "\n"
      ],
      "metadata": {
        "id": "FllNNnHZBHWv"
      }
    }
  ],
  "metadata": {
    "kernelspec": {
      "display_name": "Python",
      "language": "python",
      "name": "conda-env-python-py"
    },
    "language_info": {
      "name": ""
    },
    "colab": {
      "provenance": [],
      "include_colab_link": true
    }
  },
  "nbformat": 4,
  "nbformat_minor": 0
}