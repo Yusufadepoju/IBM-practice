{
  "cells": [
    {
      "cell_type": "markdown",
      "metadata": {
        "id": "view-in-github",
        "colab_type": "text"
      },
      "source": [
        "<a href=\"https://colab.research.google.com/github/Yusufadepoju/IBM-practice/blob/main/DataScienceEcosystem.ipynb\" target=\"_parent\"><img src=\"https://colab.research.google.com/assets/colab-badge.svg\" alt=\"Open In Colab\"/></a>"
      ]
    },
    {
      "cell_type": "markdown",
      "metadata": {
        "id": "IAeqlqECUgnb"
      },
      "source": [
        "<center>\n",
        "    <img src=\"https://cf-courses-data.s3.us.cloud-object-storage.appdomain.cloud/IBMDeveloperSkillsNetwork-DS0105EN-SkillsNetwork/labs/Module2/images/SN_web_lightmode.png\" width=\"300\" alt=\"cognitiveclass.ai logo\">\n",
        "</center>\n"
      ]
    },
    {
      "cell_type": "markdown",
      "source": [
        "\n",
        "# Data Science Tools and Ecosystem"
      ],
      "metadata": {
        "id": "vXLiGMviUvJJ"
      }
    },
    {
      "cell_type": "markdown",
      "source": [
        "##Introduction\n",
        "\n",
        "In this notebook, Data Science Tools and Ecosystem are summarized."
      ],
      "metadata": {
        "id": "j8zSqnnTU4W_"
      }
    },
    {
      "cell_type": "markdown",
      "source": [
        "## Objectives\n",
        "\n",
        "Insertion of a markdown cell to create a list\n",
        "\n",
        "Creating a jupyter notebook, Writting code to add, multiply 2 variables\n",
        "\n",
        "How to create a repository on github\n",
        "\n",
        "List popular languages for Data Science\n",
        "\n",
        "List popular libraries for Data Science"
      ],
      "metadata": {
        "id": "4tbfSWwxpjIQ"
      }
    },
    {
      "cell_type": "markdown",
      "source": [
        "## Some of the popular languages that Data Scientists use are:  \n",
        "\n",
        "1.   Python\n",
        "2.   SQL\n",
        "3.   R Language\n",
        "  \n",
        "\n",
        "\n",
        "\n",
        "\n"
      ],
      "metadata": {
        "id": "zzs3tujBVBB7"
      }
    },
    {
      "cell_type": "markdown",
      "source": [
        "## Some of the commonly used libraries used by Data Scientists include:\n",
        "\n",
        "1.   Pandas\n",
        "2.   Numpy\n",
        "3.   Matplotlib\n",
        "4.   Seaborn\n",
        "5.   ggplot\n",
        "6.   plotly\n",
        "7.   dpyr\n",
        "\n"
      ],
      "metadata": {
        "id": "K6PIzKmnVkbt"
      }
    },
    {
      "cell_type": "markdown",
      "source": [
        "| Data Science Tools |\n",
        "|------|\n",
        "|   Git  |\n",
        "| Python|\n",
        "| Jupyter notebook|"
      ],
      "metadata": {
        "id": "aN1ufNoCkasS"
      }
    },
    {
      "cell_type": "markdown",
      "source": [
        "### Below are a few examples of evaluating arithmetic expressions in Python\n",
        "- a = 4\n",
        "- b = 5\n",
        "- c = a + b \n",
        "- c = 9"
      ],
      "metadata": {
        "id": "7eiUUS7JWx64"
      }
    },
    {
      "cell_type": "code",
      "source": [
        "#Create a code cell to multiply and add numbers\n",
        "\n",
        "#variables\n",
        "a = 3\n",
        "b = 4\n",
        "c = 5 \n",
        "\n",
        "d = (3*4) + 5\n",
        "print(d)"
      ],
      "metadata": {
        "colab": {
          "base_uri": "https://localhost:8080/"
        },
        "id": "8UFB_VwLYx1B",
        "outputId": "329f03e8-766d-4402-c257-8b5e2ad65480"
      },
      "execution_count": 2,
      "outputs": [
        {
          "output_type": "stream",
          "name": "stdout",
          "text": [
            "17\n"
          ]
        }
      ]
    },
    {
      "cell_type": "code",
      "source": [
        "#Create a code cell to convert minutes to hours\n",
        "\n",
        "#60 minutes = 1 hr\n",
        "#200 = x\n",
        "x = (200 * 1)/60\n",
        "print(x)"
      ],
      "metadata": {
        "id": "fnii6OpHYrbf",
        "colab": {
          "base_uri": "https://localhost:8080/"
        },
        "outputId": "d84e25d8-d744-4ea3-c43d-544a2c1a5e04"
      },
      "execution_count": 7,
      "outputs": [
        {
          "output_type": "stream",
          "name": "stdout",
          "text": [
            "3.3333333333333335\n"
          ]
        }
      ]
    },
    {
      "cell_type": "markdown",
      "source": [
        "## Author\n",
        "\n",
        "The author of this Jupyter notebook is *Adepoju Yusuf*\n",
        "\n"
      ],
      "metadata": {
        "id": "FllNNnHZBHWv"
      }
    }
  ],
  "metadata": {
    "kernelspec": {
      "display_name": "Python",
      "language": "python",
      "name": "conda-env-python-py"
    },
    "language_info": {
      "name": ""
    },
    "colab": {
      "provenance": [],
      "include_colab_link": true
    }
  },
  "nbformat": 4,
  "nbformat_minor": 0
}