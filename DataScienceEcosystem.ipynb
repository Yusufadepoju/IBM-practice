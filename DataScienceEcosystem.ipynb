{
  "cells": [
    {
      "cell_type": "markdown",
      "metadata": {
        "id": "view-in-github",
        "colab_type": "text"
      },
      "source": [
        "<a href=\"https://colab.research.google.com/github/Yusufadepoju/IBM-practice/blob/main/DataScienceEcosystem.ipynb\" target=\"_parent\"><img src=\"https://colab.research.google.com/assets/colab-badge.svg\" alt=\"Open In Colab\"/></a>"
      ]
    },
    {
      "cell_type": "markdown",
      "metadata": {
        "id": "IAeqlqECUgnb"
      },
      "source": [
        "<center>\n",
        "    <img src=\"https://cf-courses-data.s3.us.cloud-object-storage.appdomain.cloud/IBMDeveloperSkillsNetwork-DS0105EN-SkillsNetwork/labs/Module2/images/SN_web_lightmode.png\" width=\"300\" alt=\"cognitiveclass.ai logo\">\n",
        "</center>\n"
      ]
    },
    {
      "cell_type": "markdown",
      "metadata": {
        "id": "vXLiGMviUvJJ"
      },
      "source": [
        "\n",
        "# Data Science Tools and Ecosystem"
      ]
    },
    {
      "cell_type": "markdown",
      "metadata": {
        "id": "j8zSqnnTU4W_"
      },
      "source": [
        "##Introduction\n",
        "\n",
        "In this notebook, Data Science Tools and Ecosystem are summarized."
      ]
    },
    {
      "cell_type": "markdown",
      "metadata": {
        "id": "zzs3tujBVBB7"
      },
      "source": [
        "## Some of the popular languages that Data Scientists use are:  \n",
        "\n",
        "1.   Python\n",
        "2.   SQL\n",
        "3.   R Language\n",
        "  \n",
        "\n",
        "\n",
        "\n",
        "\n"
      ]
    },
    {
      "cell_type": "markdown",
      "metadata": {
        "id": "K6PIzKmnVkbt"
      },
      "source": [
        "## Some of the commonly used libraries used by Data Scientists include:\n",
        "\n",
        "1.   Pandas\n",
        "2.   Numpy\n",
        "3.   Matplotlib\n",
        "4.   Seaborn\n",
        "5.   ggplot\n",
        "6.   plotly\n",
        "7.   dpyr\n",
        "\n"
      ]
    },
    {
      "cell_type": "markdown",
      "metadata": {
        "id": "aN1ufNoCkasS"
      },
      "source": [
        "| Data Science Tools |\n",
        "|------|\n",
        "|   Git  |\n",
        "| Python|\n",
        "| Jupyter notebook|"
      ]
    },
    {
      "cell_type": "markdown",
      "metadata": {
        "id": "7eiUUS7JWx64"
      },
      "source": [
        "### Below are a few examples of evaluating arithmetic expressions in Python\n"
      ]
    },
    {
      "cell_type": "code",
      "execution_count": 4,
      "metadata": {
        "colab": {
          "base_uri": "https://localhost:8080/"
        },
        "id": "8UFB_VwLYx1B",
        "outputId": "765185da-4727-46e7-8d28-1ccdb303841a"
      },
      "outputs": [
        {
          "output_type": "stream",
          "name": "stdout",
          "text": [
            "17\n"
          ]
        }
      ],
      "source": [
        "#This a simple arithmetic expression to mutiply then add integers\n",
        "\n",
        "\n",
        "d = (3*4) + 5\n",
        "print(d)"
      ]
    },
    {
      "cell_type": "code",
      "execution_count": 3,
      "metadata": {
        "colab": {
          "base_uri": "https://localhost:8080/"
        },
        "id": "fnii6OpHYrbf",
        "outputId": "872bb88d-1e8d-4fb3-a9ce-3ad05ad4b345"
      },
      "outputs": [
        {
          "output_type": "stream",
          "name": "stdout",
          "text": [
            "3.3333333333333335\n"
          ]
        }
      ],
      "source": [
        "#This will convert 200 minutes to hours by diving by 60\n",
        "\n",
        "#60 minutes = 1 hr\n",
        "#200_minutes = x\n",
        "x = (200 * 1)/60\n",
        "print(x)"
      ]
    },
    {
      "cell_type": "markdown",
      "metadata": {
        "id": "wFLzsIRFZ3OR"
      },
      "source": [
        "- Insert a markdown cell to list Objectives\n",
        "\n",
        "- Creating a jupyter notebook\n",
        "Writting code to add, multiply 2 variables\n",
        "\n",
        "- How to create a repository on github\n",
        "\n"
      ]
    },
    {
      "cell_type": "markdown",
      "metadata": {
        "id": "FllNNnHZBHWv"
      },
      "source": [
        "\n",
        "##Author\n",
        "\n",
        "The author of this Jupyter notebook is *Adepoju Yusuf*\n",
        "\n"
      ]
    },
    {
      "cell_type": "code",
      "source": [],
      "metadata": {
        "id": "726sinxayTPn"
      },
      "execution_count": null,
      "outputs": []
    }
  ],
  "metadata": {
    "colab": {
      "provenance": [],
      "include_colab_link": true
    },
    "kernelspec": {
      "display_name": "Python",
      "language": "python",
      "name": "conda-env-python-py"
    },
    "language_info": {
      "name": ""
    }
  },
  "nbformat": 4,
  "nbformat_minor": 0
}